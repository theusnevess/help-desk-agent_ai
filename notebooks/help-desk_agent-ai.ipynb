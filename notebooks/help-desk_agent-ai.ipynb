{
 "cells": [
  {
   "cell_type": "code",
   "execution_count": 16,
   "id": "fcb52db9",
   "metadata": {},
   "outputs": [],
   "source": [
    "# Importando as bibliotecas necessárias \n",
    "import os # Permite acesso as variáveis de ambiente \n",
    "from dotenv import load_dotenv # Carrega os dados das variáveis de ambiente \n",
    "from langchain_google_genai import ChatGoogleGenerativeAI # Carrega o modelo de IA generativa \n",
    "\n",
    "# Carrega as variáveis do arquivo .env\n",
    "load_dotenv()\n",
    "\n",
    "# Importa a chave\n",
    "GOOGLE_API_KEY = os.getenv(\"GEMINI_API_KEY\")"
   ]
  },
  {
   "cell_type": "code",
   "execution_count": 17,
   "id": "38041ff3",
   "metadata": {},
   "outputs": [],
   "source": [
    "# Prompt do sistema \n",
    "TRIAGEM_PROMPT = (\n",
    "    \"Você é um triador de Service Desk para políticas internas da empresa Carraro Desenvolvimento. \"\n",
    "    \"Dada a mensagem do usuário, retorne SOMENTE um JSON com:\\n\"\n",
    "    \"{\\n\"\n",
    "    '  \"decisao\": \"AUTO_RESOLVER\" | \"PEDIR_INFO\" | \"ABRIR_CHAMADO\",\\n'\n",
    "    '  \"urgencia\": \"BAIXA\" | \"MEDIA\" | \"ALTA\",\\n'\n",
    "    '  \"campos_faltantes\": [\"...\"]\\n'\n",
    "    \"}\\n\"\n",
    "    \"Regras:\\n\"\n",
    "    '- **AUTO_RESOLVER**: Perguntas claras sobre regras ou procedimentos descritos nas políticas (Ex: \"Posso reembolsar a internet do meu home office?\", \"Como funciona a política de alimentação em viagens?\").\\n'\n",
    "    '- **PEDIR_INFO**: Mensagens vagas ou que faltam informações para identificar o tema ou contexto (Ex: \"Preciso de ajuda com uma política\", \"Tenho uma dúvida geral\").\\n'\n",
    "    '- **ABRIR_CHAMADO**: Pedidos de exceção, liberação, aprovação ou acesso especial, ou quando o usuário explicitamente pede para abrir um chamado (Ex: \"Quero exceção para trabalhar 5 dias remoto.\", \"Solicito liberação para anexos externos.\", \"Por favor, abra um chamado para o RH.\").'\n",
    "    \"Analise a mensagem e decida a ação mais apropriada.\"\n",
    ")"
   ]
  },
  {
   "cell_type": "code",
   "execution_count": 18,
   "id": "0a034a92",
   "metadata": {},
   "outputs": [],
   "source": [
    "# Importando as bibliotecas para a validação \n",
    "from pydantic import BaseModel, Field\n",
    "from typing import Literal, List, Dict\n",
    "\n",
    "# Classe de validação da saída do modelo no formato JSON \n",
    "class TriagemOut(BaseModel): \n",
    "    decisao: Literal[\"AUTO_RESOLVER\", \"PEDIR_INFO\", \"ABRIR_CHAMADO\"] # Aceita apenas os valores listados \n",
    "    urgencia: Literal[\"BAIXA\", \"MEDIA\", \"ALTA\"]\n",
    "    campos_faltantes: List[str] = Field(default_factory=list) # Cria uma lista com um valor padrão (lista vazia)"
   ]
  },
  {
   "cell_type": "code",
   "execution_count": 19,
   "id": "e99d9863",
   "metadata": {},
   "outputs": [],
   "source": [
    "# Instanciação do modelo de linguagem do Gemini\n",
    "llm_triagem = ChatGoogleGenerativeAI(\n",
    "    model=\"gemini-2.5-flash\",\n",
    "    temperature=0, # Configura a criatividade do modelo\n",
    "    api_key=GOOGLE_API_KEY)"
   ]
  },
  {
   "cell_type": "code",
   "execution_count": 20,
   "id": "97409c1f",
   "metadata": {},
   "outputs": [],
   "source": [
    "# Importando as funções que criam a cadeia entre o modelo e a classe de validação\n",
    "from langchain_core.messages import SystemMessage, HumanMessage\n",
    "\n",
    "# Conecta o modelo de linguagem com a classe de validação com saída estruturada no formato JSON\n",
    "triagem_chain = llm_triagem.with_structured_output(TriagemOut)\n",
    "\n",
    "# Criando a função orquestradora\n",
    "def triagem(mensagem: str) -> Dict: # Executa a cadeia de triagem e retorna a saída validada com um dicionário\n",
    "    saida: TriagemOut = triagem_chain.invoke([SystemMessage(content=TRIAGEM_PROMPT), # Contém instruções da persona que o modelo deve assumir, no prompt do sistema \n",
    "                                              HumanMessage(content=mensagem)]) # Contém a pergunta do usuário\n",
    "    return saida.model_dump() # Converte o objeto pydantic para um dicionário"
   ]
  },
  {
   "cell_type": "code",
   "execution_count": 21,
   "id": "d2e76058",
   "metadata": {},
   "outputs": [],
   "source": [
    "testes = [\"Posso reembolsar a internet?\", \n",
    "          \"Quero mais 5 dias de trabalho remoto. Como faço?\", \n",
    "          \"Posso reembolsar cursos e/ou treinamentos?\", \n",
    "          \"Quantas capivaras tem no Rio Araguaia?\"]"
   ]
  },
  {
   "cell_type": "code",
   "execution_count": null,
   "id": "a268975b",
   "metadata": {},
   "outputs": [
    {
     "name": "stdout",
     "output_type": "stream",
     "text": [
      "Pergunta: Posso reembolsar a internet?\n",
      " Resposta -> {'decisao': 'AUTO_RESOLVER', 'urgencia': 'BAIXA', 'campos_faltantes': []}\n",
      "\n"
     ]
    }
   ],
   "source": [
    "# Itera sobre a lista de perguntas e ativa a função orquestradora com uma pergunta como parâmetro\n",
    "for teste in testes: \n",
    "    print(f\"Pergunta: {teste}\\n Resposta -> {triagem(teste)}\\n\")"
   ]
  }
 ],
 "metadata": {
  "kernelspec": {
   "display_name": "Python 3",
   "language": "python",
   "name": "python3"
  },
  "language_info": {
   "codemirror_mode": {
    "name": "ipython",
    "version": 3
   },
   "file_extension": ".py",
   "mimetype": "text/x-python",
   "name": "python",
   "nbconvert_exporter": "python",
   "pygments_lexer": "ipython3",
   "version": "3.12.3"
  }
 },
 "nbformat": 4,
 "nbformat_minor": 5
}
