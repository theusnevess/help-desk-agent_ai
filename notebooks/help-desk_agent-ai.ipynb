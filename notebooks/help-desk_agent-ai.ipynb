{
 "cells": [
  {
   "cell_type": "code",
   "execution_count": null,
   "id": "fcb52db9",
   "metadata": {},
   "outputs": [],
   "source": [
    "# Importando as bibliotecas necessárias \n",
    "import os # Permite acesso as variáveis de ambiente \n",
    "from dotenv import load_dotenv # Carrega os dados das variáveis de ambiente \n",
    "from langchain_google_genai import ChatGoogleGenerativeAI # Carrega o modelo de IA generativa \n",
    "\n",
    "# Carrega as variáveis do arquivo .env\n",
    "load_dotenv()\n",
    "\n",
    "# Importa a chave\n",
    "GOOGLE_API_KEY = os.getenv(\"GEMINI_API_KEY\")"
   ]
  }
 ],
 "metadata": {
  "language_info": {
   "name": "python"
  }
 },
 "nbformat": 4,
 "nbformat_minor": 5
}
